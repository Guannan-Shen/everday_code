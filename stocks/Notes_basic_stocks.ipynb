{
 "cells": [
  {
   "cell_type": "markdown",
   "metadata": {},
   "source": [
    "# Stock Investing For Dummies 5th Edition"
   ]
  },
  {
   "cell_type": "markdown",
   "metadata": {},
   "source": [
    "## Introduction\n",
    "Volatility and risk do indeed play a greater role in today’s stock market, and that means that patience and discipline are more important than ever. Volatility refers to the amount of uncertainty or risk related to the size of changes in a security's value.  \n",
    "In all the years that I’ve counseled and educated investors, the single difference between success and failure, between gain and loss, has boiled down to two words: applied knowledge.  \n",
    "While other books may tell you about stocks, this book tells you about stocks and what affects them. This book can help you succeed not only in up markets but also in down markets. Bull markets and bear markets come and go, but the informed investor can keep making money no matter what. \n",
    "\n"
   ]
  },
  {
   "cell_type": "markdown",
   "metadata": {},
   "source": [
    "## Part 1 The Essentials of Stock Investing\n",
    "Find out what you should do before you invest your first dollar in stocks. Evaluate your current financial goals and situation.  \n",
    "Know the different approaches to stock investing and which may be right for you.   \n",
    "Figure out the risks of stock investing and discover the best ways around them. Understand the concept of volatility.    \n",
    "Invest in the best stocks with a single **exchange-traded fund (ETF)** purchase.   "
   ]
  },
  {
   "cell_type": "markdown",
   "metadata": {},
   "source": [
    "## Chapter 1 Surveying the world of Stock Investing: Pick successful stocks\n",
    "**As I write this, I believe that the bull market that started in 2009 may be coming to an end and that a (hopefully short-lived) bear market may be upon us in 2016.**\n",
    "Great stocks to help you grow your money (or provide dividend income) can be found in both up and down markets. In fact, a bear (or down) market can be a great time to buy stocks because they’re cheaper (can you say “sale!”), and the key is knowing what to do (and even why). \n",
    "**Just keep in mind that patience and discipline count now more than ever.**\n",
    "The bottom line in stock investing is that you shouldn’t immediately send your money to a brokerage account or go to a website and click “buy stock.” The first thing you should do is find out as much as you can about what stocks are and how to use them to achieve your wealth-building goals.  \n",
    "**Stock** is a type of **security** that indicates ownership in a corporation and represents a claim on a part of that corporation’s assets and earnings. There are two primary types of stocks:  \n",
    "**Common stock:** This type of stock, entitles the owner to vote at shareholders’ meetings and receive any dividends\n",
    "that the company issues.  \n",
    "**Preferred stock:** This type of stock doesn’t usually confer voting rights. However,preferred stockholders, for example, have priority in certain conditions, such as receiving dividends before common stockholders in the event that the corporation goes bankrupt. Preferred stock seeks to operate similarly to a bond for investors seeking stable income. Also, exchange-traded funds is mentioned in chapter 5 (ETFs) because they can be a valuable part of the stock investor’s portfolio.  \n",
    "\n",
    "### Preparing to Buy Stocks\n",
    "Gathering information is critical in your stock-investing pursuits. You should **gather information before and after your invest**. Chapter 7 helps you decide which broker to use. \n",
    "\n",
    "### Knowing How to Pick Winners\n",
    "\n",
    "#### Recognizing stock value\n",
    "Compare stocks from different companies is like select eggs from different brands. All things being equal, the cheaper price has greater value for the investor. \n",
    "\n",
    "#### Understanding how market capitalization affects stock value \n",
    "**Market capitalization (or market cap)** is the most basic way to determine a company's value. 5 basic categories:  \n",
    "1. **Micro cap (less than 250 million USD)**: These stocks are the smallest, and hence the riskiest, available. (There’s even a subsection of micro cap called **nano cap, which refers to stocks under 50 million USD**, but they’re not appropriate for this book.)  \n",
    "2. **Small cap (250 million USD to 1 billion USD)**: These stocks fare better than the micro caps and still have plenty of growth potential. The key word here is “potential”.\n",
    "3. **Mid cap (1 billion USD to 10 billion USD)**: For many investors, this category offers a good compromise between small caps and large caps. These stocks have some of the safety of large caps while retaining some of the growth potential of small caps.\n",
    "4. **Large cap (10 billion USD to 50 billion USD)**: This category is usually best reserved for conservative stock investors who want steady appreciation with greater safety. Stocks in this category are frequently referred to as **blue chips**.\n",
    "5. **Ultra cap (more than 50 billion USD)**: These stocks are also called **mega caps** and obviously refer to companies that are the biggest of the big. Stocks such as Google and Apple are examples.  \n",
    "All things being equal, large cap stocks are considered safer than small cap stocks. However, small cap stocks have greater potential for growth.\n",
    "\n",
    "#### Sharpening your investment skills\n",
    "1. Understand why you want to invest in stocks. Are you seeking **appreciation (capital gains) or income (dividends)**?\n",
    "2. Timing your buys and sells does matter. **Technical analysis** is a way to analyze securities through their market activity (**past prices and volume**) to find patterns in the short term. When? Overbought and oversold give you an edge. \n",
    "3. Do some research. Look at the company, is it a **profitable business**\n",
    "4. Understand and identify what’s up with “The Big Picture.” The economic and politic atmosphere, for instance, the **trade war between China and US** in 2018. \n",
    "5. Use investing strategies like the pros do. **Stock-screening tools**\n",
    "6. Consider buying in smaller quantities. Dividend Reinvestment Plans (DRIPs) may be No-Fee. \n",
    "7. Do as others do, not as they say. This is why I like to look at **company insiders** before I buy or sell a particular stock. \n",
    "8. Keep more of the money you earn. The **tax issue**.\n",
    "\n",
    "#### STOCK MARKET INSANITY\n",
    "Yes, in the **short term**, stock investing is irrational. The price of a stock and the value of its company seem disconnected and crazy. Over the long run, a stock’s share price and the company’s value eventually become equal for the most part."
   ]
  },
  {
   "cell_type": "markdown",
   "metadata": {},
   "source": [
    "## Chapter 2 Taking Stock of Your Current Financial Situation and Goals"
   ]
  },
  {
   "cell_type": "markdown",
   "metadata": {},
   "source": [
    "### In This Chapter\n",
    "1. Preparing your personal balance sheet\n",
    "2. Looking at your cash flow statement\n",
    "3. Determining your financial goals  \n",
    "  \n",
    "You must first do some homework on a topic that you should be very familiar with: yourself. That’s right. Understanding your **current financial situation** and clearly defining your **financial goals** are the first steps in successful investing.  \n",
    "For instance, In fact, I told him that he had **too much tied to a single stock**, even though it was a solid, large company. What would happen to his assets if problems arose at PG? Telling him to **shrink his stock portfolio and put that money elsewhere** — by **paying off debt** or **adding investment-grade bonds** for diversification, for example — seemed obvious. Investors should make stocks a part of their portfolios, but the operative word is **part**. A disciplined investor also has money in bank accounts, investmentgrade bonds, precious metals, and other assets that offer growth or income opportunities. **Diversification** is the key to minimizing risk. \n",
    "**The responsibilities of stock investing**: such as regularly reviewing the financial statements and progress of the\n",
    "companies they invest in.\n",
    "\n",
    "\n"
   ]
  },
  {
   "cell_type": "markdown",
   "metadata": {},
   "source": [
    "####  Establishing a Starting Point by Preparing a Balance Sheet\n",
    "A **balance sheet** is simply a list of your **assets, your liabilities**, and what each item is currently worth so you can arrive at your net worth. Your **net worth** is total assets minus total liabilities. **Update your balance sheet** at least once a year to monitor your financial progress. \n",
    "\n",
    "##### Step 1: Make sure you have an emergency fund\n",
    "First, list cash on your balance sheet. Your goal is to have a reserve of at least **three to six months’ worth of your gross living expenses** in cash and cash equivalents, in a secure, FDIC insured, **interest-bearing bank account** (or another relatively safe, interestbearing vehicle such as a **money market fund**).  \n",
    "Resist the urge to start thinking of your investment in stocks as a savings account generating more than 20 percent per year. This is dangerous thinking!  \n",
    "\n",
    "##### Step 2: List your assets in decreasing order of liquidity\n",
    "liquidity refers to how quickly you can convert a particular asset (something you own that has value) into cash. All too often, people are short on cash and have too much wealth tied up in **illiquid investments such as real estate**. Cash in hand, your checking account, and your savings account are at the top of the list.  \n",
    "![Assets Balance Sheet](https://image.ibb.co/dfhGbU/Assets_balance_sheet.png \"Assets Balance \")"
   ]
  },
  {
   "cell_type": "code",
   "execution_count": null,
   "metadata": {},
   "outputs": [],
   "source": []
  },
  {
   "cell_type": "code",
   "execution_count": null,
   "metadata": {},
   "outputs": [],
   "source": []
  },
  {
   "cell_type": "code",
   "execution_count": null,
   "metadata": {},
   "outputs": [],
   "source": []
  }
 ],
 "metadata": {
  "kernelspec": {
   "display_name": "Python 3",
   "language": "python",
   "name": "python3"
  },
  "language_info": {
   "codemirror_mode": {
    "name": "ipython",
    "version": 3
   },
   "file_extension": ".py",
   "mimetype": "text/x-python",
   "name": "python",
   "nbconvert_exporter": "python",
   "pygments_lexer": "ipython3",
   "version": "3.6.5"
  }
 },
 "nbformat": 4,
 "nbformat_minor": 2
}
