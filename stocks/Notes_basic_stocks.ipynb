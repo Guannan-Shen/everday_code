{
 "cells": [
  {
   "cell_type": "markdown",
   "metadata": {},
   "source": [
    "# Stock Investing For Dummies 5th Edition"
   ]
  },
  {
   "cell_type": "markdown",
   "metadata": {},
   "source": [
    "## Introduction\n",
    "Volatility and risk do indeed play a greater role in today’s stock market, and that means that patience and discipline are more important than ever. Volatility refers to the amount of uncertainty or risk related to the size of changes in a security's value.  \n",
    "In all the years that I’ve counseled and educated investors, the single difference between success and failure, between gain and loss, has boiled down to two words: applied knowledge.  \n",
    "While other books may tell you about stocks, this book tells you about stocks and what affects them. This book can help you succeed not only in up markets but also in down markets. Bull markets and bear markets come and go, but the informed investor can keep making money no matter what. \n",
    "\n"
   ]
  },
  {
   "cell_type": "markdown",
   "metadata": {},
   "source": [
    "## Part 1 The Essentials of Stock Investing\n",
    "Find out what you should do before you invest your first dollar in stocks. Evaluate your current financial goals and situation.  \n",
    "Know the different approaches to stock investing and which may be right for you.   \n",
    "Figure out the risks of stock investing and discover the best ways around them. Understand the concept of volatility.    \n",
    "Invest in the best stocks with a single **exchange-traded fund (ETF)** purchase.   "
   ]
  },
  {
   "cell_type": "markdown",
   "metadata": {},
   "source": [
    "### Surveying the world of Stock Investing Pick successful stocks\n",
    "**As I write this, I believe that the bull market that started in 2009 may be coming to an end and that a (hopefully short-lived) bear market may be upon us in 2016.**\n",
    "Great stocks to help you grow your money (or provide dividend income) can be found in both up and down markets. In fact, a bear (or down) market can be a great time to buy stocks because they’re cheaper (can you say “sale!”), and the key is knowing what to do (and even why). \n",
    "**Just keep in mind that patience and discipline count now more than ever.**\n",
    "The bottom line in stock investing is that you shouldn’t immediately send your money to a brokerage account or go to a website and click “buy stock.” The first thing you should do is find out as much as you can about what stocks are and how to use them to achieve your wealth-building goals.  \n",
    "**Stock** is a type of **security** that indicates ownership in a corporation and represents a claim on a part of that corporation’s assets and earnings. There are two primary types of stocks:  \n",
    "**Common stock:** This type of stock, entitles the owner to vote at shareholders’ meetings and receive any dividends\n",
    "that the company issues.  \n",
    "**Preferred stock:** This type of stock doesn’t usually confer voting rights. However,preferred stockholders, for example, have priority in certain conditions, such as receiving dividends before common stockholders in the event that the corporation goes bankrupt. Preferred stock seeks to operate similarly to a bond for investors seeking stable income. Also, exchange-traded funds is mentioned in chapter 5 (ETFs) because they can be a valuable part of the stock investor’s portfolio \n",
    "\n"
   ]
  }
 ],
 "metadata": {
  "kernelspec": {
   "display_name": "Python 3",
   "language": "python",
   "name": "python3"
  },
  "language_info": {
   "codemirror_mode": {
    "name": "ipython",
    "version": 3
   },
   "file_extension": ".py",
   "mimetype": "text/x-python",
   "name": "python",
   "nbconvert_exporter": "python",
   "pygments_lexer": "ipython3",
   "version": "3.6.5"
  }
 },
 "nbformat": 4,
 "nbformat_minor": 2
}
