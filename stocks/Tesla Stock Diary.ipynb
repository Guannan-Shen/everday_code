{
 "cells": [
  {
   "cell_type": "markdown",
   "metadata": {},
   "source": [
    "## Tesla Stock Diary"
   ]
  },
  {
   "cell_type": "code",
   "execution_count": 2,
   "metadata": {},
   "outputs": [
    {
     "name": "stdout",
     "output_type": "stream",
     "text": [
      "13, Aug, 2018\n"
     ]
    }
   ],
   "source": [
    "import time\n",
    "print(time.strftime(\"%d, %b, %Y\"))"
   ]
  },
  {
   "cell_type": "code",
   "execution_count": 3,
   "metadata": {},
   "outputs": [
    {
     "data": {
      "text/plain": [
       "'C:\\\\Users\\\\hithr\\\\0_stocks'"
      ]
     },
     "execution_count": 3,
     "metadata": {},
     "output_type": "execute_result"
    }
   ],
   "source": [
    "pwd"
   ]
  },
  {
   "cell_type": "markdown",
   "metadata": {},
   "source": [
    "### 07, Aug, 2018"
   ]
  },
  {
   "cell_type": "markdown",
   "metadata": {},
   "source": [
    "### What happened\n",
    "#### Tesla Stock previously jumps from 290 to 350 usd simply by its potential\n",
    "#### Tesla starts hiring for new two billion usd Shanghai Gigafactory\n",
    "[Now hiring](https://finance.yahoo.com/m/b182403f-a0fa-3ddd-8eb3-372849fc11fe/tesla-starts-hiring-for-new.html). The new plant need no money from the stock market.\n",
    "#### Saudi Arabia's sovereign wealth fund\n",
    "This fund, overseen by Crown Prince Mohammed bin Salman, has built an undisclosed stake of between [3 and 5 percent stake in Tesla].(https://finance.yahoo.com/news/elon-musk-considers-taking-tesla-165937136.html)\n",
    "#### At 350 usd, Elon Musk considers taking Tesla private at 420 usd per share. \n",
    "He [tweets a lot](https://finance.yahoo.com/video/elon-musk-wants-tesla-private-211137928.html), and the stock soars to 380, 11 % increment. He will continue as the CEO with 20% of shares. He said he has got enough investment to buyout.  \n",
    "A long-time Tesla shareholder with a 572 million USD stake says he's okay with the electric car maker going private.  \n",
    "[Ron Baron](), the founder of Baron Capital, told CNBC's Becky Quick on Tuesday that there's \"no way\" he would sell his Tesla shares at Elon Musk's suggested $420 a share price, saying he'd stay on as a private partner. Musk, Tesla's founder and CEO, set the market on fire on Tuesday when he tweeted he was considering a take-private at that price and had lined up financing."
   ]
  },
  {
   "attachments": {},
   "cell_type": "markdown",
   "metadata": {},
   "source": [
    "### 13, Aug, 2018\n",
    "![5 Days since The Tesla buyout private twitter](Tesla_8-7to8-13.PNG \"Elon Mush fights with Shorts\")"
   ]
  },
  {
   "cell_type": "code",
   "execution_count": null,
   "metadata": {
    "collapsed": true
   },
   "outputs": [],
   "source": []
  }
 ],
 "metadata": {
  "kernelspec": {
   "display_name": "Python 3",
   "language": "python",
   "name": "python3"
  },
  "language_info": {
   "codemirror_mode": {
    "name": "ipython",
    "version": 3
   },
   "file_extension": ".py",
   "mimetype": "text/x-python",
   "name": "python",
   "nbconvert_exporter": "python",
   "pygments_lexer": "ipython3",
   "version": "3.6.3"
  }
 },
 "nbformat": 4,
 "nbformat_minor": 2
}
