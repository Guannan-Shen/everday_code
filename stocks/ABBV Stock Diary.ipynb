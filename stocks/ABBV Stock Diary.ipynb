{
 "cells": [
  {
   "cell_type": "markdown",
   "metadata": {},
   "source": [
    "## ABBV (AbbVie) Stock Diary"
   ]
  },
  {
   "cell_type": "code",
   "execution_count": null,
   "metadata": {
    "collapsed": true
   },
   "outputs": [],
   "source": [
    "pwd"
   ]
  },
  {
   "cell_type": "code",
   "execution_count": 1,
   "metadata": {},
   "outputs": [
    {
     "name": "stdout",
     "output_type": "stream",
     "text": [
      "13-Aug-2018\n"
     ]
    }
   ],
   "source": [
    "import time\n",
    "print(time.strftime(\"%d-%b-%Y\"))"
   ]
  },
  {
   "attachments": {},
   "cell_type": "markdown",
   "metadata": {},
   "source": [
    "### 13-Aug-2018\n",
    "![Abbv low PE high Divident](Abbv_8-7.png \"Low PE High Dividend\")  \n",
    "  \n",
    "I think this one is good, cheap, profitable stock. However, this morning **SHAREHOLDER ALERT: Pomerantz Law Firm Investigates Claims On Behalf of Investors of AbbVie Inc. - ABBV**. The investigation concerns whether AbbVie and certain of its officers and/or directors have engaged in securities fraud or other [unlawful business practices](https://finance.yahoo.com/news/shareholder-alert-pomerantz-law-firm-182200335.html) "
   ]
  },
  {
   "cell_type": "code",
   "execution_count": 10,
   "metadata": {},
   "outputs": [
    {
     "data": {
      "text/html": [
       "<img src=\"https://image.ibb.co/nEY1Qp/Abbv_8_7.png\"/>"
      ],
      "text/plain": [
       "<IPython.core.display.Image object>"
      ]
     },
     "execution_count": 10,
     "metadata": {},
     "output_type": "execute_result"
    }
   ],
   "source": [
    "from IPython.display import Image\n",
    "from IPython.core.display import HTML \n",
    "Image(url = \"https://image.ibb.co/nEY1Qp/Abbv_8_7.png\")  #image from my imgbb\n"
   ]
  },
  {
   "cell_type": "code",
   "execution_count": null,
   "metadata": {
    "collapsed": true
   },
   "outputs": [],
   "source": []
  },
  {
   "cell_type": "code",
   "execution_count": null,
   "metadata": {
    "collapsed": true
   },
   "outputs": [],
   "source": []
  }
 ],
 "metadata": {
  "kernelspec": {
   "display_name": "Python 3",
   "language": "python",
   "name": "python3"
  },
  "language_info": {
   "codemirror_mode": {
    "name": "ipython",
    "version": 3
   },
   "file_extension": ".py",
   "mimetype": "text/x-python",
   "name": "python",
   "nbconvert_exporter": "python",
   "pygments_lexer": "ipython3",
   "version": "3.6.3"
  }
 },
 "nbformat": 4,
 "nbformat_minor": 2
}
