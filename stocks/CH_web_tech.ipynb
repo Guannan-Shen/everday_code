{
 "cells": [
  {
   "cell_type": "markdown",
   "metadata": {},
   "source": [
    "# CH Web Tech Stocks"
   ]
  },
  {
   "cell_type": "markdown",
   "metadata": {},
   "source": [
    "## List\n",
    "From Aug 13th, definitely bearish. Take a snapshot of 14-Aug-2018:  \n",
    "**JD** \n",
    "**WB**\n",
    "**YY**\n",
    "**WUBA**\n",
    "**SOHU**   \n",
    "**NTES**   \n",
    "**TCEHY**   \n",
    "**MOMO**\n",
    "**SINA**   \n",
    "**BIDU**   \n",
    "**BABA**   \n",
    "From the end of the Q2, around Aug 1st, Stock prices of Chinese Web Tech companies began to tumble. It is said there is the worry of the 2nd half of 2018. Although several companies, such as MOMO, SINA, WB, YY have good financials.\n",
    "![CN Web Tech Fall](https://image.ibb.co/gTOwAp/CN_web_Tech8_14fall.png \"CN Web Tech Fall\")\n"
   ]
  },
  {
   "cell_type": "markdown",
   "metadata": {},
   "source": [
    "## However, the Tele and traditional CN companies\n",
    "CHL and SNP, high Dividend, Low PE. Profitable Business.\n",
    "![CN Profitable](https://image.ibb.co/c32Ci9/CN_tra8_14.png \"CN profitable business\")"
   ]
  },
  {
   "cell_type": "code",
   "execution_count": 1,
   "metadata": {},
   "outputs": [
    {
     "name": "stdout",
     "output_type": "stream",
     "text": [
      "14-Aug-2018\n"
     ]
    }
   ],
   "source": [
    "import time\n",
    "print(time.strftime(\"%d-%b-%Y\"))"
   ]
  },
  {
   "cell_type": "code",
   "execution_count": null,
   "metadata": {
    "collapsed": true
   },
   "outputs": [],
   "source": []
  }
 ],
 "metadata": {
  "kernelspec": {
   "display_name": "Python 3",
   "language": "python",
   "name": "python3"
  },
  "language_info": {
   "codemirror_mode": {
    "name": "ipython",
    "version": 3
   },
   "file_extension": ".py",
   "mimetype": "text/x-python",
   "name": "python",
   "nbconvert_exporter": "python",
   "pygments_lexer": "ipython3",
   "version": "3.6.3"
  }
 },
 "nbformat": 4,
 "nbformat_minor": 2
}
