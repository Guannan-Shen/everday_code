{
 "cells": [
  {
   "cell_type": "code",
   "execution_count": 1,
   "metadata": {},
   "outputs": [
    {
     "name": "stdout",
     "output_type": "stream",
     "text": [
      "14-Aug-2018\n"
     ]
    }
   ],
   "source": [
    "import time\n",
    "print(time.strftime(\"%d-%b-%Y\"))"
   ]
  },
  {
   "cell_type": "markdown",
   "metadata": {},
   "source": [
    "# Nvidia (Company with True Competitive Power)"
   ]
  },
  {
   "cell_type": "markdown",
   "metadata": {},
   "source": [
    "## On 13-Aug-2018\n",
    "On the conference, Nvidia SIGGRAPH 2018 Keynote, Jensen Huang introduced **Nvidia Quadro RTX**. The world's first **ray tracing GPU**. To put it simply, **ray-tracing is a rendering technique** that produces photorealistic graphics with true-to-life lighting and shadow formations. The process accounts for the physical properties of rendered objects and their material composition to accurately simulate how light interacts with them, including the level of light reflection, refraction or absorption.  \n",
    "Also, he announced Turing architecture. Nvidia said this is the greatest leap since the CUDA.  \n",
    "All on the conference, SIGGRAPH 2018.  \n",
    "The P/E ratio of NVDA stock drops dramatically on the Yahoo Finance website, since this company keeps profitable and beats estimates.  \n",
    "![Nvidia Holds High Stock Price](https://image.ibb.co/gcnOqp/NVDA_8_13.png \"NVDA Holds High\")"
   ]
  },
  {
   "cell_type": "code",
   "execution_count": null,
   "metadata": {
    "collapsed": true
   },
   "outputs": [],
   "source": []
  },
  {
   "cell_type": "code",
   "execution_count": null,
   "metadata": {
    "collapsed": true
   },
   "outputs": [],
   "source": []
  },
  {
   "cell_type": "code",
   "execution_count": null,
   "metadata": {
    "collapsed": true
   },
   "outputs": [],
   "source": []
  },
  {
   "cell_type": "code",
   "execution_count": null,
   "metadata": {
    "collapsed": true
   },
   "outputs": [],
   "source": []
  }
 ],
 "metadata": {
  "kernelspec": {
   "display_name": "Python 3",
   "language": "python",
   "name": "python3"
  },
  "language_info": {
   "codemirror_mode": {
    "name": "ipython",
    "version": 3
   },
   "file_extension": ".py",
   "mimetype": "text/x-python",
   "name": "python",
   "nbconvert_exporter": "python",
   "pygments_lexer": "ipython3",
   "version": "3.6.3"
  }
 },
 "nbformat": 4,
 "nbformat_minor": 2
}
