{
 "cells": [
  {
   "cell_type": "markdown",
   "metadata": {},
   "source": [
    "# Introduction to computer and programming using python"
   ]
  },
  {
   "cell_type": "markdown",
   "metadata": {},
   "source": [
    "## Getting Started\n",
    "All knowledge can be thought of as either declarative or imperative. **Declarative knowledge** is composed of statements of fact. **Imperative knowledge** is “how to” knowledge, or recipes for deducing information.   \n",
    "\n",
    "**An algorithm** is a finite list of **instructions** that describe a computation that when executed on a **set of inputs** will proceed through a set of **well-defined states** and eventually produce **an output**.  \n",
    "\n",
    "Indeed, the heart of the computer then becomes a program (called an **interpreter**) that can execute any legal set of instructions. \n",
    " \n",
    "The **Church-Turing thesis** states that if a function is computable, a Turing Machine can be programmed to compute it. Turing showed, for example, that it is impossible to write a program that given an arbitrary program, call it P, prints **true if and only if P will run forever**. This is known as the **halting problem**. **Turing completeness**: a programming language is said to be Turing complete if it can be used to simulate a universal Turing Machine. Fortunately, no programmer has to build programs out of **Turing’s primitive instructions**.  \n",
    "\n",
    "Each programming language has a set of primitive constructs, a syntax, a static semantics, and a semantics. By analogy with a natural language, e.g., English, the primitive constructs are words, the syntax describes which strings of words constitute well-formed sentences, the static semantics defines which sentences are meaningful, and the semanticsdefines the meaning of those sentences. The **semantics** of a language associates a meaning with each **syntactically** (syntax) correct string of symbols that has no **static semantic** errors. "
   ]
  },
  {
   "cell_type": "markdown",
   "metadata": {},
   "source": [
    "## Introduction to Python\n",
    "1. Low-level versus high-level refers to whether we program using instructions and data objects at the level of the machine.  \n",
    "2. General versus targeted to an application domain refers to whether the primitive operations of the programming language are widely applicable or are finetuned to a domain.  \n",
    "3. **Interpreted** versus **compiled** refers to **source code**, is executed directly (by an interpreter) or whetherit is first converted (by a compiler) into a sequence of machine-level primitive operations. Compiled languages usually produce programs that run more quickly and use less space.  \n",
    "Python is a general-purpose programming language and is designed to be interpreted.\n",
    "\n",
    "### The Basic Elements of Python\n",
    "A Python *program*, sometimes called a *script*, is a sequence of definitions and commands. The commands are executedby the Python interpreter in something called the **shell**. A **command, often called a statement**, instructs the interpreter to do something. \n",
    "\n",
    "\n"
   ]
  },
  {
   "cell_type": "code",
   "execution_count": 18,
   "metadata": {},
   "outputs": [
    {
     "name": "stdout",
     "output_type": "stream",
     "text": [
      "Yankees rule, but not in Boston!\n4.0\n2.0794415416798357\n0.7853981633974483\n45.0\n46\n"
     ]
    }
   ],
   "source": [
    "\n",
    "print(\"Yankees rule,\", \"but not in Boston!\", sep=\" \")\n",
    "import math\n",
    "from math import e\n",
    "print(math.sqrt(16))\n",
    "print(math.log(8,e))\n",
    "print(math.atan(1))\n",
    "print(math.degrees(math.atan(1)))\n",
    "\n",
    "## compare \n",
    "print(6 + 4*10)"
   ]
  },
  {
   "cell_type": "code",
   "execution_count": 1,
   "metadata": {
    "collapsed": false
   },
   "outputs": [],
   "source": [
    ""
   ]
  },
  {
   "cell_type": "code",
   "execution_count": null,
   "metadata": {},
   "outputs": [],
   "source": []
  },
  {
   "cell_type": "code",
   "execution_count": null,
   "metadata": {},
   "outputs": [],
   "source": []
  },
  {
   "cell_type": "code",
   "execution_count": null,
   "metadata": {},
   "outputs": [],
   "source": []
  },
  {
   "cell_type": "code",
   "execution_count": null,
   "metadata": {},
   "outputs": [],
   "source": []
  },
  {
   "cell_type": "code",
   "execution_count": null,
   "metadata": {},
   "outputs": [],
   "source": []
  },
  {
   "cell_type": "code",
   "execution_count": null,
   "metadata": {},
   "outputs": [],
   "source": []
  }
 ],
 "metadata": {
  "kernelspec": {
   "display_name": "Python 2",
   "language": "python",
   "name": "python2"
  },
  "language_info": {
   "codemirror_mode": {
    "name": "ipython",
    "version": 2
   },
   "file_extension": ".py",
   "mimetype": "text/x-python",
   "name": "python",
   "nbconvert_exporter": "python",
   "pygments_lexer": "ipython2",
   "version": "2.7.6"
  }
 },
 "nbformat": 4,
 "nbformat_minor": 0
}
