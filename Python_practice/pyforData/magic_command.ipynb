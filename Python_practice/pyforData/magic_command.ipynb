{
 "cells": [
  {
   "cell_type": "markdown",
   "metadata": {},
   "source": [
    "# Introductory tutorial"
   ]
  },
  {
   "cell_type": "markdown",
   "metadata": {},
   "source": [
    "## Keyboard shortcuts"
   ]
  },
  {
   "cell_type": "markdown",
   "metadata": {},
   "source": [
    "The Jupyter Notebook has two different keyboard input modes. \n",
    "\n",
    "Edit mode allows you to type code or text into a cell and is indicated by a green cell border. Press <kbd>Enter</kbd> to enable the Edit mode\n",
    "\n",
    "Command mode binds the keyboard to notebook level commands and is indicated by a grey cell border with a blue left margin. Press <kbd>Esc</kbd> to enable. At Command mode, press <kbd>H</kbd> to show shortcuts help page."
   ]
  },
  {
   "cell_type": "code",
   "execution_count": 1,
   "metadata": {},
   "outputs": [
    {
     "data": {
      "text/plain": [
       "'/home/guanshim/Documents/everyday_code/everday_code/Python_practice/pyforData'"
      ]
     },
     "execution_count": 1,
     "metadata": {},
     "output_type": "execute_result"
    }
   ],
   "source": [
    "%pwd"
   ]
  },
  {
   "cell_type": "markdown",
   "metadata": {},
   "source": [
    "## Save keystrokes"
   ]
  },
  {
   "cell_type": "markdown",
   "metadata": {},
   "source": [
    "### Tab completion and introspection"
   ]
  },
  {
   "cell_type": "code",
   "execution_count": 27,
   "metadata": {},
   "outputs": [],
   "source": [
    "import datetime\n",
    "import numpy as np\n",
    "b = [1,23,33,5]"
   ]
  },
  {
   "cell_type": "code",
   "execution_count": 12,
   "metadata": {},
   "outputs": [],
   "source": [
    "# b.\n",
    "b?\n",
    "print?\n",
    "datetime.MAXYEAR"
   ]
  },
  {
   "cell_type": "markdown",
   "metadata": {},
   "source": [
    "### Magic Command\n",
    "IPython’s special commands (which are not built into Python itself) are known as\n",
    "“magic” commands. \n",
    "\n",
    "A magic command is any command prefixed by the percent symbol %.\n",
    "\n",
    "To check the execution time of any Python statement, such as a matrix multiplication, using the %timeit magic function "
   ]
  },
  {
   "cell_type": "code",
   "execution_count": 33,
   "metadata": {},
   "outputs": [
    {
     "name": "stdout",
     "output_type": "stream",
     "text": [
      "12.3 µs ± 30.8 ns per loop (mean ± std. dev. of 7 runs, 100000 loops each)\n",
      "CPU times: user 1.71 ms, sys: 6 µs, total: 1.72 ms\n",
      "Wall time: 269 µs\n"
     ]
    },
    {
     "data": {
      "text/plain": [
       "array([[  6.72437085,  -8.94438722,   2.52129926, ..., -13.90513124,\n",
       "          1.34296652,   6.69802081],\n",
       "       [-12.21260521,  17.89770788,   3.55919537, ...,  10.13803246,\n",
       "         -0.6906904 , -10.63973443],\n",
       "       [ -1.56174882,  16.11990389,  13.50387437, ...,   3.71473072,\n",
       "         -0.31485666,  -6.13212282],\n",
       "       ...,\n",
       "       [ -1.60003718,   0.98520808,  13.9655545 , ...,  12.10075068,\n",
       "         25.46715991, -13.66806659],\n",
       "       [ 14.37031324,  -1.6294874 ,  -5.03922876, ...,  -1.3336418 ,\n",
       "        -14.20808698,   6.17338184],\n",
       "       [-10.11791041,  -4.96951653,  -4.13795251, ...,   0.85114905,\n",
       "          1.48814872,  -1.97013604]])"
      ]
     },
     "execution_count": 33,
     "metadata": {},
     "output_type": "execute_result"
    }
   ],
   "source": [
    "# matrix calculation\n",
    "## %time statement Report the execution time of a single statement\n",
    "a_matrix = np.random.randn(100,100)\n",
    "%timeit np.dot(a_matrix, a_matrix)\n"
   ]
  },
  {
   "cell_type": "code",
   "execution_count": 34,
   "metadata": {},
   "outputs": [
    {
     "name": "stdout",
     "output_type": "stream",
     "text": [
      "CPU times: user 2.3 ms, sys: 3.94 ms, total: 6.24 ms\n",
      "Wall time: 1.08 ms\n"
     ]
    },
    {
     "data": {
      "text/plain": [
       "array([[  6.72437085,  -8.94438722,   2.52129926, ..., -13.90513124,\n",
       "          1.34296652,   6.69802081],\n",
       "       [-12.21260521,  17.89770788,   3.55919537, ...,  10.13803246,\n",
       "         -0.6906904 , -10.63973443],\n",
       "       [ -1.56174882,  16.11990389,  13.50387437, ...,   3.71473072,\n",
       "         -0.31485666,  -6.13212282],\n",
       "       ...,\n",
       "       [ -1.60003718,   0.98520808,  13.9655545 , ...,  12.10075068,\n",
       "         25.46715991, -13.66806659],\n",
       "       [ 14.37031324,  -1.6294874 ,  -5.03922876, ...,  -1.3336418 ,\n",
       "        -14.20808698,   6.17338184],\n",
       "       [-10.11791041,  -4.96951653,  -4.13795251, ...,   0.85114905,\n",
       "          1.48814872,  -1.97013604]])"
      ]
     },
     "execution_count": 34,
     "metadata": {},
     "output_type": "execute_result"
    }
   ],
   "source": [
    "%time np.dot(a_matrix, a_matrix)"
   ]
  },
  {
   "cell_type": "code",
   "execution_count": 26,
   "metadata": {},
   "outputs": [
    {
     "data": {
      "text/plain": [
       "18"
      ]
     },
     "execution_count": 26,
     "metadata": {},
     "output_type": "execute_result"
    }
   ],
   "source": [
    "%run ipython_script_test.py \n",
    "# the result in the python script\n",
    "result"
   ]
  },
  {
   "cell_type": "code",
   "execution_count": 30,
   "metadata": {},
   "outputs": [],
   "source": [
    "# debug\n",
    "%debug?"
   ]
  },
  {
   "cell_type": "code",
   "execution_count": 31,
   "metadata": {},
   "outputs": [
    {
     "data": {
      "text/plain": [
       "'/home/guanshim/Documents/everyday_code/everday_code/Python_practice/pyforData'"
      ]
     },
     "execution_count": 31,
     "metadata": {},
     "output_type": "execute_result"
    }
   ],
   "source": [
    "# assign output from a magic command\n",
    "wd = %pwd\n",
    "wd"
   ]
  },
  {
   "cell_type": "markdown",
   "metadata": {},
   "source": [
    "I encourage you to explore all of the special commands available by typing %quickref or %magic."
   ]
  },
  {
   "cell_type": "code",
   "execution_count": 32,
   "metadata": {},
   "outputs": [],
   "source": [
    "%quickref"
   ]
  },
  {
   "cell_type": "code",
   "execution_count": null,
   "metadata": {},
   "outputs": [],
   "source": [
    "%magic"
   ]
  },
  {
   "cell_type": "markdown",
   "metadata": {},
   "source": [
    "In the Jupyter notebook, you may also use the related %load magic function, which\n",
    "imports a script into a code cell:"
   ]
  },
  {
   "cell_type": "code",
   "execution_count": null,
   "metadata": {},
   "outputs": [],
   "source": [
    "# %load ipython_script_test.py\n",
    "#!/usr/bin/env python3\n",
    "\"\"\"\n",
    "Created on Sat Jan 19 21:44:43 2019\n",
    "\n",
    "@author: guanshim\n",
    "\"\"\"\n",
    "\n",
    "#%%\n",
    "# test script with variables embeded\n",
    "def f_multiply(x,y,z):\n",
    "    \"\"\"\n",
    "    Multiply 3 numbers\n",
    "    \n",
    "    Return\n",
    "    ------\n",
    "    the muliplication\n",
    "    \"\"\"\n",
    "    return x*y*z\n",
    "x = 2\n",
    "y = 1\n",
    "z = 9\n",
    "\n",
    "result = f_multiply(x,y,z)"
   ]
  },
  {
   "cell_type": "code",
   "execution_count": 13,
   "metadata": {},
   "outputs": [],
   "source": [
    "datetime?"
   ]
  },
  {
   "cell_type": "markdown",
   "metadata": {},
   "source": [
    "This is referred to as object introspection. If the object is a function or instance\n",
    "method, the docstring, if defined, will also be shown."
   ]
  },
  {
   "cell_type": "code",
   "execution_count": 14,
   "metadata": {},
   "outputs": [],
   "source": [
    "def add_numbers(a,b,c):\n",
    "    \"\"\"\n",
    "    Add 3 numbers together\n",
    "    Returns\n",
    "    -------\n",
    "    the_sum: type of arguments\n",
    "    \"\"\"\n",
    "    return a+b+c"
   ]
  },
  {
   "cell_type": "code",
   "execution_count": 18,
   "metadata": {},
   "outputs": [],
   "source": [
    "add_numbers?"
   ]
  },
  {
   "cell_type": "markdown",
   "metadata": {},
   "source": [
    "Using ?? will also show the function’s source code if possible:"
   ]
  },
  {
   "cell_type": "code",
   "execution_count": 19,
   "metadata": {},
   "outputs": [],
   "source": [
    "add_numbers??"
   ]
  },
  {
   "cell_type": "markdown",
   "metadata": {},
   "source": [
    "? has a final usage, which is for searching the IPython namespace in a manner similar\n",
    "to the standard Unix or Windows command line. A number of characters combined\n",
    "with the wildcard (*) will show all names matching the wildcard expression. For\n",
    "example, we could get a list of all functions in the top-level NumPy namespace con‐\n",
    "taining load"
   ]
  },
  {
   "cell_type": "code",
   "execution_count": 21,
   "metadata": {},
   "outputs": [],
   "source": [
    "np.*load*?"
   ]
  },
  {
   "cell_type": "markdown",
   "metadata": {},
   "source": [
    "Pressing Ctrl-C while any code is running, whether a script through %run or a longrunning command, will cause a KeyboardInterrupt to be raised. This will cause\n",
    "nearly all Python programs to stop immediately except in certain unusual cases."
   ]
  },
  {
   "cell_type": "markdown",
   "metadata": {},
   "source": [
    "%paste takes whatever text is in the clipboard and executes it as a single block in the shell\n",
    "\n",
    "With the %cpaste block, you have the freedom to paste as much code as you like\n",
    "before executing it. You might decide to use %cpaste in order to look at the pasted\n",
    "code before executing it. If you accidentally paste the wrong code, you can break out\n",
    "of the %cpaste prompt by pressing Ctrl-C."
   ]
  },
  {
   "cell_type": "markdown",
   "metadata": {},
   "source": [
    "In the IPython shell, running %matplotlib sets up the integration so you can create\n",
    "multiple plot windows without interfering with the console session. In Jupyter Notebook, the command is a little different.\n"
   ]
  },
  {
   "cell_type": "code",
   "execution_count": null,
   "metadata": {},
   "outputs": [],
   "source": []
  }
 ],
 "metadata": {
  "kernelspec": {
   "display_name": "Python 3",
   "language": "python",
   "name": "python3"
  },
  "language_info": {
   "codemirror_mode": {
    "name": "ipython",
    "version": 3
   },
   "file_extension": ".py",
   "mimetype": "text/x-python",
   "name": "python",
   "nbconvert_exporter": "python",
   "pygments_lexer": "ipython3",
   "version": "3.6.5"
  }
 },
 "nbformat": 4,
 "nbformat_minor": 2
}
